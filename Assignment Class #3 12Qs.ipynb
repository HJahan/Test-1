{
 "cells": [
  {
   "cell_type": "code",
   "execution_count": 151,
   "id": "1da14435",
   "metadata": {
    "scrolled": true
   },
   "outputs": [
    {
     "name": "stdout",
     "output_type": "stream",
     "text": [
      "Twinkle, twinkle, little star,\n",
      "\t How I wonder what you are!\n",
      "\t Up above the world so high,\n",
      "\t Like a diamond in the sky.\n",
      "Twinkle, twinkle, little star,\n",
      "\t How I wonder what you are!\n"
     ]
    }
   ],
   "source": [
    "#Q1\n",
    "print(\"Twinkle, twinkle, little star,\"\n",
    "         \"\\n\\t How I wonder what you are!\"\n",
    "       \"\\n\\t Up above the world so high,\"\n",
    "        \"\\n\\t Like a diamond in the sky.\"\n",
    "        \"\\nTwinkle, twinkle, little star,\"\n",
    "         \"\\n\\t How I wonder what you are!\")"
   ]
  },
  {
   "cell_type": "code",
   "execution_count": 152,
   "id": "7bba48ad",
   "metadata": {},
   "outputs": [
    {
     "name": "stdout",
     "output_type": "stream",
     "text": [
      "Python version\n",
      "3.8.8 (default, Apr 13 2021, 15:08:03) [MSC v.1916 64 bit (AMD64)]\n",
      "Version info.\n",
      "sys.version_info(major=3, minor=8, micro=8, releaselevel='final', serial=0)\n"
     ]
    }
   ],
   "source": [
    "#Q2\n",
    "import sys\n",
    "print(\"Python version\")\n",
    "print(sys.version)\n",
    "print(\"Version info.\")\n",
    "print(sys.version_info)"
   ]
  },
  {
   "cell_type": "code",
   "execution_count": 153,
   "id": "86c5cd5f",
   "metadata": {},
   "outputs": [
    {
     "name": "stdout",
     "output_type": "stream",
     "text": [
      "Current date and time: \n",
      "2021-10-23 14:01:16\n"
     ]
    }
   ],
   "source": [
    "#Q3\n",
    "import datetime\n",
    "now = datetime.datetime.now()\n",
    "print(\"Current date and time: \")\n",
    "print(now.strftime(\"%Y-%m-%d %H:%M:%S\"))"
   ]
  },
  {
   "cell_type": "code",
   "execution_count": 154,
   "id": "aaeb8b63",
   "metadata": {},
   "outputs": [
    {
     "name": "stdout",
     "output_type": "stream",
     "text": [
      " Please Enter the radius of a circle: 20\n",
      " Area Of a Circle = 1256.00\n",
      " Circumference Of a Circle = 125.60\n"
     ]
    }
   ],
   "source": [
    "#Q4\n",
    "PI = 3.14\n",
    "r = float(input(' Please Enter the radius of a circle: '))\n",
    "area = PI * r * r\n",
    "circumference = 2 * PI * r\n",
    "print(\" Area Of a Circle = %.2f\" %area)\n",
    "print(\" Circumference Of a Circle = %.2f\" %circumference)"
   ]
  },
  {
   "cell_type": "code",
   "execution_count": 155,
   "id": "910736cc",
   "metadata": {},
   "outputs": [
    {
     "name": "stdout",
     "output_type": "stream",
     "text": [
      "What is your first name Humi\n",
      "What is your surname Jahan\n",
      "Jahan Humi\n"
     ]
    }
   ],
   "source": [
    "#Q5\n",
    "firstName = input(\"What is your first name \")\n",
    "surName = input(\"What is your surname \")\n",
    "print(surName+\" \"+firstName)"
   ]
  },
  {
   "cell_type": "code",
   "execution_count": 158,
   "id": "1bfefb48",
   "metadata": {},
   "outputs": [
    {
     "name": "stdout",
     "output_type": "stream",
     "text": [
      "Please enter your first number 1\n",
      "Please enter your second number 2\n",
      "Your total is:  3\n"
     ]
    }
   ],
   "source": [
    "#Q6\n",
    "a = int(input(\"Please enter your first number \"))\n",
    "b = int(input(\"Please enter your second number \"))\n",
    "print(\"Your total is: \", a+b)"
   ]
  },
  {
   "cell_type": "code",
   "execution_count": 159,
   "id": "d526fb27",
   "metadata": {},
   "outputs": [
    {
     "name": "stdout",
     "output_type": "stream",
     "text": [
      "Enter your Maths marks 20\n",
      "Enter your English marks 40\n",
      "Enter your History marks 60\n",
      "Enter your Science marks 10\n",
      "Enter your Geography marks 56\n",
      "Grade E\n"
     ]
    }
   ],
   "source": [
    "#Q7\n",
    "a = int(input(\"Enter your Maths marks \"))\n",
    "b = int(input(\"Enter your English marks \"))\n",
    "c = int(input(\"Enter your History marks \"))\n",
    "d = int(input(\"Enter your Science marks \"))\n",
    "e = int(input(\"Enter your Geography marks \"))\n",
    "percent = ((a+b+c+d+e)/500)*100;\n",
    "if percent < 100 and percent > 80:\n",
    "    print(\"Grade A+\")\n",
    "elif percent <= 80 and percent >= 70:\n",
    "    print(\"Grade A\");\n",
    "elif percent <= 70 and percent >= 60:\n",
    "    print(\"Grade B\");\n",
    "elif percent <= 60 and percent >= 50:\n",
    "    print(\"Grade C\");\n",
    "elif percent <= 50 and percent >= 40:\n",
    "    print(\"Grade D\");\n",
    "elif percent <= 40 and percent >= 33:\n",
    "    print(\"Grade E\");\n",
    "elif percent <0:\n",
    "    print(\"Error: Percentage cannot be less than 0\")\n",
    "elif percent >100:\n",
    "    print(\"Error: Percentage cannot be more than 100\")\n",
    "else:\n",
    "    print(\"Fail\")"
   ]
  },
  {
   "cell_type": "code",
   "execution_count": 161,
   "id": "7b179c4e",
   "metadata": {},
   "outputs": [
    {
     "name": "stdout",
     "output_type": "stream",
     "text": [
      "Enter a number 21\n",
      "Your number is odd\n"
     ]
    }
   ],
   "source": [
    "#Q8\n",
    "number = int(input(\"Enter a number \"))\n",
    "if (number % 2) == 0:\n",
    "   print(\"Your number is even\")\n",
    "elif  (number % 2) != 0:\n",
    "    print(\"Your number is odd\")\n",
    "else:\n",
    "    print(\"Error: Enter a number\")"
   ]
  },
  {
   "cell_type": "code",
   "execution_count": 162,
   "id": "54f766f7",
   "metadata": {},
   "outputs": [
    {
     "data": {
      "text/plain": [
       "4"
      ]
     },
     "execution_count": 162,
     "metadata": {},
     "output_type": "execute_result"
    }
   ],
   "source": [
    "#Q9\n",
    "list=[\"apple\",\" banana\",\"orange\",\"strawberry\"]\n",
    "len(list)"
   ]
  },
  {
   "cell_type": "code",
   "execution_count": 163,
   "id": "453a47d8",
   "metadata": {},
   "outputs": [
    {
     "data": {
      "text/plain": [
       "10"
      ]
     },
     "execution_count": 163,
     "metadata": {},
     "output_type": "execute_result"
    }
   ],
   "source": [
    "#Q10\n",
    "list=[1,2,3,4]\n",
    "sum(list)\n"
   ]
  },
  {
   "cell_type": "code",
   "execution_count": 164,
   "id": "da0f3153",
   "metadata": {},
   "outputs": [
    {
     "name": "stdout",
     "output_type": "stream",
     "text": [
      "Largest number is:  586\n"
     ]
    }
   ],
   "source": [
    "#Q11\n",
    "list=[1, 6, 586, 393]\n",
    "print(\"Largest number is: \", max(list))"
   ]
  },
  {
   "cell_type": "code",
   "execution_count": 165,
   "id": "0a9980c2",
   "metadata": {},
   "outputs": [
    {
     "name": "stdout",
     "output_type": "stream",
     "text": [
      "1\n",
      "1\n",
      "2\n",
      "3\n"
     ]
    }
   ],
   "source": [
    "#Q12\n",
    "a=[1, 1, 2, 3, 5, 8, 13, 21, 34, 55, 89]\n",
    "for item in a:\n",
    "    if item <5:\n",
    "        print(item)"
   ]
  },
  {
   "cell_type": "code",
   "execution_count": null,
   "id": "000caffc",
   "metadata": {},
   "outputs": [],
   "source": []
  }
 ],
 "metadata": {
  "kernelspec": {
   "display_name": "Python 3",
   "language": "python",
   "name": "python3"
  },
  "language_info": {
   "codemirror_mode": {
    "name": "ipython",
    "version": 3
   },
   "file_extension": ".py",
   "mimetype": "text/x-python",
   "name": "python",
   "nbconvert_exporter": "python",
   "pygments_lexer": "ipython3",
   "version": "3.8.8"
  }
 },
 "nbformat": 4,
 "nbformat_minor": 5
}
